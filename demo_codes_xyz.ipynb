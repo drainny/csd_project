{
 "cells": [
  {
   "cell_type": "markdown",
   "id": "sonic-asian",
   "metadata": {},
   "source": [
    "A line in 3D traveling in the direction $(a,b,c)$ can be described by:  \n",
    "$x = x_{0}+ta$  \n",
    "$y = y_{0}+tb$  \n",
    "$z = z_{0}+tc$.  \n",
    "Suppose $x_0$ = $y_0$ = $z_0$ = 0, where it is the source place. Suppose $c=1$. Then it becomes:  \n",
    "$x = ta$  \n",
    "$y = tb$  \n",
    "$z = t$.  "
   ]
  },
  {
   "cell_type": "code",
   "execution_count": 42,
   "id": "hybrid-presentation",
   "metadata": {},
   "outputs": [
    {
     "name": "stdout",
     "output_type": "stream",
     "text": [
      "-0.14993948951579006 0.3061002295340698\n"
     ]
    }
   ],
   "source": [
    "import random\n",
    "import math\n",
    "import numpy as np\n",
    "\n",
    "# generate\n",
    "_a = random.uniform(0.5, -0.5)\n",
    "_b = random.uniform(0.5, -0.5)\n",
    "print(_a,_b)\n",
    "\n",
    "_x_1 = a*1\n",
    "_y_1 = b*1\n",
    "_x_n = [_a * (i*0.1+1) for i in range(5)]\n",
    "_y_n = [_b * (i*0.1+1) for i in range(5)]\n",
    "\n",
    "rsl = 2.5e-7\n",
    "_num_x_n = [_x_n[i]//rsl for i in range(5)]\n",
    "_num_y_n = [_y_n[i]//rsl for i in range(5)]\n",
    "\n",
    "x_n_max = [(_num_x_n[i]+1)*rsl for i in range(5)]\n",
    "x_n_min = [(_num_x_n[i])*rsl for i in range(5)]\n",
    "y_n_max = [(_num_y_n[i]+1)*rsl for i in range(5)]\n",
    "y_n_min = [(_num_y_n[i])*rsl for i in range(5)]"
   ]
  },
  {
   "cell_type": "code",
   "execution_count": 49,
   "id": "fifth-appointment",
   "metadata": {},
   "outputs": [
    {
     "name": "stdout",
     "output_type": "stream",
     "text": [
      "[-0.14994] [0.3061005]\n"
     ]
    }
   ],
   "source": [
    "# test\n",
    "y_n = [(y_n_max[i]+y_n_min[i])/2 for i in range(5)]\n",
    "x_n = [(x_n_max[i]+x_n_min[i])/2 for i in range(5)]\n",
    "z_n = [(i*0.1+1) for i in range(5)]\n",
    "\n",
    "A = np.vstack([z_n, np.ones(len(z_n))]).T\n",
    "\n",
    "y = np.array(y_n)[:, np.newaxis]\n",
    "x = np.array(x_n)[:, np.newaxis]\n",
    "b = np.dot((np.dot(np.linalg.inv(np.dot(A.T,A)),A.T)),y)[0]\n",
    "a = np.dot((np.dot(np.linalg.inv(np.dot(A.T,A)),A.T)),x)[0]\n",
    "print(a, b)"
   ]
  },
  {
   "cell_type": "code",
   "execution_count": null,
   "id": "decreased-disclosure",
   "metadata": {},
   "outputs": [],
   "source": []
  },
  {
   "cell_type": "code",
   "execution_count": null,
   "id": "based-scientist",
   "metadata": {},
   "outputs": [],
   "source": []
  },
  {
   "cell_type": "code",
   "execution_count": null,
   "id": "historic-difference",
   "metadata": {},
   "outputs": [],
   "source": []
  },
  {
   "cell_type": "code",
   "execution_count": null,
   "id": "adopted-movie",
   "metadata": {},
   "outputs": [],
   "source": []
  },
  {
   "cell_type": "code",
   "execution_count": null,
   "id": "institutional-chosen",
   "metadata": {},
   "outputs": [],
   "source": []
  },
  {
   "cell_type": "code",
   "execution_count": null,
   "id": "muslim-representation",
   "metadata": {},
   "outputs": [],
   "source": []
  }
 ],
 "metadata": {
  "kernelspec": {
   "display_name": "Python 3",
   "language": "python",
   "name": "python3"
  },
  "language_info": {
   "codemirror_mode": {
    "name": "ipython",
    "version": 3
   },
   "file_extension": ".py",
   "mimetype": "text/x-python",
   "name": "python",
   "nbconvert_exporter": "python",
   "pygments_lexer": "ipython3",
   "version": "3.7.5"
  }
 },
 "nbformat": 4,
 "nbformat_minor": 5
}
