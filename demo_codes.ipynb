{
 "cells": [
  {
   "cell_type": "markdown",
   "id": "colonial-newton",
   "metadata": {},
   "source": [
    "\\begin{equation}\n",
    "\\begin{aligned}\n",
    "\\hat{n} = (sin\\theta cos \\phi, sin \\theta sin \\phi, cos \\theta),  \\\\\n",
    "(x,y,z) = t \\hat{n},  \\\\\n",
    "\\phi \\in [0, 2 \\pi],  \\\\\n",
    "\\theta \\in (0, arctan\\frac{\\sqrt{2}}{2})\\\\\n",
    "\\end{aligned}\n",
    "\\end{equation}"
   ]
  },
  {
   "cell_type": "markdown",
   "id": "large-fruit",
   "metadata": {},
   "source": [
    "Random initial $\\theta$ and $\\phi$. "
   ]
  },
  {
   "cell_type": "code",
   "execution_count": 1,
   "id": "fundamental-offense",
   "metadata": {},
   "outputs": [
    {
     "name": "stdout",
     "output_type": "stream",
     "text": [
      "-0.62141525 -0.6214155 -0.2460605 -0.6214155\n"
     ]
    }
   ],
   "source": [
    "import random\n",
    "import math\n",
    "import numpy as np\n",
    "theta = random.uniform(0, 2* (math.pi))\n",
    "phi = random.uniform(0, np.arctan(2**0.5/2))\n",
    "\n",
    "_x_1 = math.tan(phi)*math.cos(theta)\n",
    "_y_1 = math.tan(phi)*math.sin(theta)\n",
    "\n",
    "# Determine whether it is in the range of detector \n",
    "if abs(_x_1)<0.5 and abs(_y_1) < 0.5:\n",
    "    print('it is ok.', _x_1, _y_1)\n",
    "\n",
    "# Determimne which resolution it is in the first detector\n",
    "rsl = 2.5e-7\n",
    "num_x_1 = _x_1//rsl\n",
    "num_y_1 = _y_1//rsl\n",
    "\n",
    "# In reality, we only know the range of x_1 and y_1\n",
    "x_1_max = (num_x_1+1) * rsl\n",
    "x_1_min = num_x_1 * rsl\n",
    "y_1_max = (num_y_1+1) * rsl\n",
    "y_1_min = num_x_1 * rsl\n",
    "print(x_1_max, x_1_min, y_1_max, y_1_min)"
   ]
  },
  {
   "cell_type": "code",
   "execution_count": null,
   "id": "powered-forwarding",
   "metadata": {},
   "outputs": [],
   "source": []
  },
  {
   "cell_type": "code",
   "execution_count": null,
   "id": "reverse-monaco",
   "metadata": {},
   "outputs": [],
   "source": []
  },
  {
   "cell_type": "code",
   "execution_count": null,
   "id": "boring-county",
   "metadata": {},
   "outputs": [],
   "source": []
  },
  {
   "cell_type": "code",
   "execution_count": null,
   "id": "fifth-appointment",
   "metadata": {},
   "outputs": [],
   "source": []
  },
  {
   "cell_type": "code",
   "execution_count": null,
   "id": "constitutional-hepatitis",
   "metadata": {},
   "outputs": [],
   "source": []
  },
  {
   "cell_type": "code",
   "execution_count": null,
   "id": "explicit-crazy",
   "metadata": {},
   "outputs": [],
   "source": []
  },
  {
   "cell_type": "code",
   "execution_count": null,
   "id": "present-outdoors",
   "metadata": {},
   "outputs": [],
   "source": []
  }
 ],
 "metadata": {
  "kernelspec": {
   "display_name": "Python 3",
   "language": "python",
   "name": "python3"
  },
  "language_info": {
   "codemirror_mode": {
    "name": "ipython",
    "version": 3
   },
   "file_extension": ".py",
   "mimetype": "text/x-python",
   "name": "python",
   "nbconvert_exporter": "python",
   "pygments_lexer": "ipython3",
   "version": "3.7.5"
  }
 },
 "nbformat": 4,
 "nbformat_minor": 5
}
